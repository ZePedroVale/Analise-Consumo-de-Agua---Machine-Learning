{
 "cells": [
  {
   "cell_type": "code",
   "execution_count": 2,
   "id": "59caa1ae",
   "metadata": {},
   "outputs": [],
   "source": [
    "import pandas as pd\n",
    "from sklearn.model_selection import train_test_split, GridSearchCV\n",
    "from sklearn.ensemble import RandomForestClassifier\n",
    "from sklearn.preprocessing import StandardScaler, OneHotEncoder, LabelEncoder\n",
    "from sklearn.metrics import classification_report, confusion_matrix\n",
    "import numpy as np\n",
    "import seaborn as sns\n",
    "import matplotlib.pyplot as plt"
   ]
  },
  {
   "cell_type": "code",
   "execution_count": 3,
   "id": "771a7fbf",
   "metadata": {},
   "outputs": [],
   "source": [
    "data = pd.read_csv('train.csv')"
   ]
  },
  {
   "cell_type": "code",
   "execution_count": 4,
   "id": "f8895eaa",
   "metadata": {},
   "outputs": [
    {
     "name": "stderr",
     "output_type": "stream",
     "text": [
      "c:\\Users\\zezez\\AppData\\Local\\Programs\\Python\\Python312\\Lib\\site-packages\\sklearn\\preprocessing\\_encoders.py:975: FutureWarning: `sparse` was renamed to `sparse_output` in version 1.2 and will be removed in 1.4. `sparse_output` is ignored unless you leave `sparse` to its default value.\n",
      "  warnings.warn(\n"
     ]
    }
   ],
   "source": [
    "# Dividir os dados em características e rótulos\n",
    "X = data.drop(['Consumer_type', 'Consumer_number'], axis=1)\n",
    "y = data['Consumer_type']\n",
    "\n",
    "# Codificar a variável target\n",
    "label_encoder = LabelEncoder()\n",
    "y_encoded = label_encoder.fit_transform(y)\n",
    "\n",
    "# Codificar variáveis categóricas com OneHotEncoder\n",
    "onehot_encoder = OneHotEncoder(sparse=False)\n",
    "X_encoded = onehot_encoder.fit_transform(data[['Installation_zone']])\n",
    "feature_labels = onehot_encoder.get_feature_names_out(['Installation_zone'])\n",
    "\n",
    "# Criar um DataFrame com as colunas codificadas\n",
    "X_encoded_df = pd.DataFrame(X_encoded, columns=feature_labels)\n",
    "\n",
    "# Juntar com o resto do conjunto de dados (removendo a coluna original 'Installation_zone')\n",
    "X = pd.concat([X.drop(['Installation_zone'], axis=1), X_encoded_df], axis=1)\n",
    "\n",
    "# Dividir os dados em conjuntos de treino e teste\n",
    "X_train, X_test, y_train, y_test = train_test_split(X, y_encoded, test_size=0.2, stratify=y_encoded, random_state=42)\n",
    "\n",
    "# Escalonamento de 'Consumption'\n",
    "scaler = StandardScaler()\n",
    "X_train['Consumption'] = scaler.fit_transform(X_train[['Consumption']])\n",
    "X_test['Consumption'] = scaler.transform(X_test[['Consumption']])"
   ]
  },
  {
   "cell_type": "code",
   "execution_count": 5,
   "id": "a336f68c",
   "metadata": {},
   "outputs": [
    {
     "name": "stdout",
     "output_type": "stream",
     "text": [
      "              precision    recall  f1-score   support\n",
      "\n",
      "           0       0.06      0.01      0.01       447\n",
      "           1       0.90      1.00      0.94     47233\n",
      "           2       0.39      0.03      0.06      4212\n",
      "           3       0.00      0.00      0.00       200\n",
      "           4       0.91      0.31      0.46      1108\n",
      "           5       0.98      0.99      0.98     12617\n",
      "           6       0.00      0.00      0.00       178\n",
      "\n",
      "    accuracy                           0.91     65995\n",
      "   macro avg       0.46      0.33      0.35     65995\n",
      "weighted avg       0.87      0.91      0.88     65995\n",
      "\n"
     ]
    },
    {
     "data": {
      "image/png": "[encoded data removed]",
      "text/plain": [
       "<Figure size 640x480 with 2 Axes>"
      ]
     },
     "metadata": {},
     "output_type": "display_data"
    }
   ],
   "source": [
    "modelo = RandomForestClassifier(random_state=42)\n",
    "modelo.fit(X_train, y_train)\n",
    "\n",
    "# Previsões e avaliação do modelo\n",
    "y_pred = modelo.predict(X_test)\n",
    "print(classification_report(y_test, y_pred))\n",
    "\n",
    "# Matriz de confusão\n",
    "cm = confusion_matrix(y_test, y_pred)\n",
    "sns.heatmap(cm, annot=True, fmt='g')\n",
    "plt.show()"
   ]
  },
  {
   "cell_type": "code",
   "execution_count": 6,
   "id": "970ea022",
   "metadata": {},
   "outputs": [
    {
     "data": {
      "text/html": [
       "<div>\n",
       "<style scoped>\n",
       "    .dataframe tbody tr th:only-of-type {\n",
       "        vertical-align: middle;\n",
       "    }\n",
       "\n",
       "    .dataframe tbody tr th {\n",
       "        vertical-align: top;\n",
       "    }\n",
       "\n",
       "    .dataframe thead th {\n",
       "        text-align: right;\n",
       "    }\n",
       "</style>\n",
       "<table border=\"1\" class=\"dataframe\">\n",
       "  <thead>\n",
       "    <tr style=\"text-align: right;\">\n",
       "      <th></th>\n",
       "      <th>Consumer_number</th>\n",
       "      <th>Consumer_type_predicted</th>\n",
       "    </tr>\n",
       "  </thead>\n",
       "  <tbody>\n",
       "    <tr>\n",
       "      <th>160742</th>\n",
       "      <td>LRML16138854704546</td>\n",
       "      <td>rural domestic</td>\n",
       "    </tr>\n",
       "    <tr>\n",
       "      <th>180919</th>\n",
       "      <td>KBWC43183299305847</td>\n",
       "      <td>domestic</td>\n",
       "    </tr>\n",
       "    <tr>\n",
       "      <th>160855</th>\n",
       "      <td>NLXC55438411508802</td>\n",
       "      <td>rural domestic</td>\n",
       "    </tr>\n",
       "    <tr>\n",
       "      <th>11531</th>\n",
       "      <td>YDDE20196494383239</td>\n",
       "      <td>rural domestic</td>\n",
       "    </tr>\n",
       "    <tr>\n",
       "      <th>129227</th>\n",
       "      <td>PMJY43557035808491</td>\n",
       "      <td>domestic</td>\n",
       "    </tr>\n",
       "  </tbody>\n",
       "</table>\n",
       "</div>"
      ],
      "text/plain": [
       "           Consumer_number Consumer_type_predicted\n",
       "160742  LRML16138854704546          rural domestic\n",
       "180919  KBWC43183299305847                domestic\n",
       "160855  NLXC55438411508802          rural domestic\n",
       "11531   YDDE20196494383239          rural domestic\n",
       "129227  PMJY43557035808491                domestic"
      ]
     },
     "execution_count": 6,
     "metadata": {},
     "output_type": "execute_result"
    }
   ],
   "source": [
    "# Preparação dos resultados para submissão\n",
    "consumer_numbers = data.loc[X_test.index, 'Consumer_number']\n",
    "submission = pd.DataFrame({\n",
    "    'Consumer_number': consumer_numbers,\n",
    "    'Consumer_type_predicted': label_encoder.inverse_transform(y_pred)\n",
    "})\n",
    "\n",
    "# Salvando o arquivo de submissão\n",
    "submission.to_csv('submission.csv', index=False)\n",
    "\n",
    "# Exibir as primeiras linhas da submissão para verificação\n",
    "submission.head()"
   ]
  }
 ],
 "metadata": {
  "kernelspec": {
   "display_name": "Python 3",
   "language": "python",
   "name": "python3"
  },
  "language_info": {
   "codemirror_mode": {
    "name": "ipython",
    "version": 3
   },
   "file_extension": ".py",
   "mimetype": "text/x-python",
   "name": "python",
   "nbconvert_exporter": "python",
   "pygments_lexer": "ipython3",
   "version": "3.12.0"
  }
 },
 "nbformat": 4,
 "nbformat_minor": 5
}
